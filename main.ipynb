{
 "cells": [
  {
   "cell_type": "code",
   "execution_count": 1,
   "metadata": {},
   "outputs": [],
   "source": [
    "from src.diamonds_data import DiamondsData\n",
    "from src.transform_toolbox import label_encode_data, normalize_data_pipeline, export_to_kaggle_csv\n",
    "from sklearn.preprocessing import LabelEncoder, StandardScaler, Normalizer\n",
    "from sklearn.model_selection import train_test_split\n",
    "from math import sqrt\n",
    "import numpy as np\n",
    "from sklearn.model_selection import cross_val_score, cross_validate\n"
   ]
  },
  {
   "cell_type": "markdown",
   "metadata": {},
   "source": [
    "# Cargo los ficheros del csv"
   ]
  },
  {
   "cell_type": "code",
   "execution_count": 2,
   "metadata": {},
   "outputs": [],
   "source": [
    "diamonds_train_df = DiamondsData(\"input/train.csv\")\n",
    "X = diamonds_train_df.get_features()\n",
    "y = diamonds_train_df.get_groundtruth()"
   ]
  },
  {
   "cell_type": "markdown",
   "metadata": {},
   "source": [
    "# Transformación y preprocesado de datos"
   ]
  },
  {
   "cell_type": "code",
   "execution_count": 3,
   "metadata": {},
   "outputs": [
    {
     "data": {
      "text/html": [
       "<div>\n",
       "<style scoped>\n",
       "    .dataframe tbody tr th:only-of-type {\n",
       "        vertical-align: middle;\n",
       "    }\n",
       "\n",
       "    .dataframe tbody tr th {\n",
       "        vertical-align: top;\n",
       "    }\n",
       "\n",
       "    .dataframe thead th {\n",
       "        text-align: right;\n",
       "    }\n",
       "</style>\n",
       "<table border=\"1\" class=\"dataframe\">\n",
       "  <thead>\n",
       "    <tr style=\"text-align: right;\">\n",
       "      <th></th>\n",
       "      <th>carat</th>\n",
       "      <th>cut</th>\n",
       "      <th>color</th>\n",
       "      <th>clarity</th>\n",
       "      <th>depth</th>\n",
       "      <th>table</th>\n",
       "      <th>x</th>\n",
       "      <th>y</th>\n",
       "      <th>z</th>\n",
       "    </tr>\n",
       "  </thead>\n",
       "  <tbody>\n",
       "    <tr>\n",
       "      <th>0</th>\n",
       "      <td>1.12</td>\n",
       "      <td>3</td>\n",
       "      <td>4</td>\n",
       "      <td>2</td>\n",
       "      <td>61.6</td>\n",
       "      <td>59.0</td>\n",
       "      <td>6.67</td>\n",
       "      <td>6.63</td>\n",
       "      <td>4.10</td>\n",
       "    </tr>\n",
       "    <tr>\n",
       "      <th>1</th>\n",
       "      <td>1.14</td>\n",
       "      <td>4</td>\n",
       "      <td>1</td>\n",
       "      <td>3</td>\n",
       "      <td>60.0</td>\n",
       "      <td>54.0</td>\n",
       "      <td>6.74</td>\n",
       "      <td>6.97</td>\n",
       "      <td>4.11</td>\n",
       "    </tr>\n",
       "    <tr>\n",
       "      <th>2</th>\n",
       "      <td>0.90</td>\n",
       "      <td>4</td>\n",
       "      <td>0</td>\n",
       "      <td>3</td>\n",
       "      <td>60.3</td>\n",
       "      <td>63.0</td>\n",
       "      <td>6.12</td>\n",
       "      <td>6.22</td>\n",
       "      <td>3.72</td>\n",
       "    </tr>\n",
       "    <tr>\n",
       "      <th>3</th>\n",
       "      <td>0.71</td>\n",
       "      <td>2</td>\n",
       "      <td>1</td>\n",
       "      <td>4</td>\n",
       "      <td>61.9</td>\n",
       "      <td>54.0</td>\n",
       "      <td>5.74</td>\n",
       "      <td>5.76</td>\n",
       "      <td>3.56</td>\n",
       "    </tr>\n",
       "    <tr>\n",
       "      <th>4</th>\n",
       "      <td>0.34</td>\n",
       "      <td>4</td>\n",
       "      <td>2</td>\n",
       "      <td>3</td>\n",
       "      <td>60.0</td>\n",
       "      <td>62.0</td>\n",
       "      <td>4.51</td>\n",
       "      <td>4.55</td>\n",
       "      <td>2.72</td>\n",
       "    </tr>\n",
       "  </tbody>\n",
       "</table>\n",
       "</div>"
      ],
      "text/plain": [
       "   carat  cut  color  clarity  depth  table     x     y     z\n",
       "0   1.12    3      4        2   61.6   59.0  6.67  6.63  4.10\n",
       "1   1.14    4      1        3   60.0   54.0  6.74  6.97  4.11\n",
       "2   0.90    4      0        3   60.3   63.0  6.12  6.22  3.72\n",
       "3   0.71    2      1        4   61.9   54.0  5.74  5.76  3.56\n",
       "4   0.34    4      2        3   60.0   62.0  4.51  4.55  2.72"
      ]
     },
     "execution_count": 3,
     "metadata": {},
     "output_type": "execute_result"
    }
   ],
   "source": [
    "# Voy a transformar las columnas \"cut\", \"color\" y \"clarity\" en numéricas, usando LabelEncoder.\n",
    "object_columns = [\"cut\", \"color\", \"clarity\"]\n",
    "X_label_encoded = label_encode_data(X, object_columns)\n",
    "\n",
    "# Comprobamos que las columnas \"cut\", \"color\" y \"clarity\" ya son numéricas:\n",
    "X_label_encoded.head()"
   ]
  },
  {
   "cell_type": "code",
   "execution_count": 4,
   "metadata": {},
   "outputs": [
    {
     "data": {
      "text/html": [
       "<div>\n",
       "<style scoped>\n",
       "    .dataframe tbody tr th:only-of-type {\n",
       "        vertical-align: middle;\n",
       "    }\n",
       "\n",
       "    .dataframe tbody tr th {\n",
       "        vertical-align: top;\n",
       "    }\n",
       "\n",
       "    .dataframe thead th {\n",
       "        text-align: right;\n",
       "    }\n",
       "</style>\n",
       "<table border=\"1\" class=\"dataframe\">\n",
       "  <thead>\n",
       "    <tr style=\"text-align: right;\">\n",
       "      <th></th>\n",
       "      <th>carat</th>\n",
       "      <th>cut</th>\n",
       "      <th>color</th>\n",
       "      <th>clarity</th>\n",
       "      <th>depth</th>\n",
       "      <th>table</th>\n",
       "      <th>x</th>\n",
       "      <th>y</th>\n",
       "      <th>z</th>\n",
       "    </tr>\n",
       "  </thead>\n",
       "  <tbody>\n",
       "    <tr>\n",
       "      <th>0</th>\n",
       "      <td>0.306806</td>\n",
       "      <td>0.197493</td>\n",
       "      <td>0.374375</td>\n",
       "      <td>-0.480789</td>\n",
       "      <td>-0.045802</td>\n",
       "      <td>0.314812</td>\n",
       "      <td>0.378267</td>\n",
       "      <td>0.351302</td>\n",
       "      <td>0.357559</td>\n",
       "    </tr>\n",
       "    <tr>\n",
       "      <th>1</th>\n",
       "      <td>0.226428</td>\n",
       "      <td>0.444007</td>\n",
       "      <td>-0.294942</td>\n",
       "      <td>-0.151882</td>\n",
       "      <td>-0.382685</td>\n",
       "      <td>-0.487746</td>\n",
       "      <td>0.282435</td>\n",
       "      <td>0.336856</td>\n",
       "      <td>0.252874</td>\n",
       "    </tr>\n",
       "    <tr>\n",
       "      <th>2</th>\n",
       "      <td>0.061445</td>\n",
       "      <td>0.404330</td>\n",
       "      <td>-0.437076</td>\n",
       "      <td>-0.138309</td>\n",
       "      <td>-0.288580</td>\n",
       "      <td>0.713883</td>\n",
       "      <td>0.099123</td>\n",
       "      <td>0.120429</td>\n",
       "      <td>0.073081</td>\n",
       "    </tr>\n",
       "    <tr>\n",
       "      <th>3</th>\n",
       "      <td>-0.097372</td>\n",
       "      <td>-0.282883</td>\n",
       "      <td>-0.492080</td>\n",
       "      <td>0.050567</td>\n",
       "      <td>0.056660</td>\n",
       "      <td>-0.813753</td>\n",
       "      <td>0.004102</td>\n",
       "      <td>0.011266</td>\n",
       "      <td>0.015740</td>\n",
       "    </tr>\n",
       "    <tr>\n",
       "      <th>4</th>\n",
       "      <td>-0.272854</td>\n",
       "      <td>0.399286</td>\n",
       "      <td>-0.098846</td>\n",
       "      <td>-0.136584</td>\n",
       "      <td>-0.344140</td>\n",
       "      <td>0.577911</td>\n",
       "      <td>-0.307473</td>\n",
       "      <td>-0.290782</td>\n",
       "      <td>-0.325866</td>\n",
       "    </tr>\n",
       "  </tbody>\n",
       "</table>\n",
       "</div>"
      ],
      "text/plain": [
       "      carat       cut     color   clarity     depth     table         x  \\\n",
       "0  0.306806  0.197493  0.374375 -0.480789 -0.045802  0.314812  0.378267   \n",
       "1  0.226428  0.444007 -0.294942 -0.151882 -0.382685 -0.487746  0.282435   \n",
       "2  0.061445  0.404330 -0.437076 -0.138309 -0.288580  0.713883  0.099123   \n",
       "3 -0.097372 -0.282883 -0.492080  0.050567  0.056660 -0.813753  0.004102   \n",
       "4 -0.272854  0.399286 -0.098846 -0.136584 -0.344140  0.577911 -0.307473   \n",
       "\n",
       "          y         z  \n",
       "0  0.351302  0.357559  \n",
       "1  0.336856  0.252874  \n",
       "2  0.120429  0.073081  \n",
       "3  0.011266  0.015740  \n",
       "4 -0.290782 -0.325866  "
      ]
     },
     "metadata": {},
     "output_type": "display_data"
    }
   ],
   "source": [
    "# Transformaciones que uso:\n",
    "# - StandardScaler: hago que la media de todas las columnas sea 0 y la desviación típica sea 1.\n",
    "\n",
    "pipeline_transforms = [\n",
    "    StandardScaler(),\n",
    "    # Normalizer() # Si aplico el Normalizer() las métricas empeoran\n",
    "] \n",
    "\n",
    "# En esta función aplico una pipeline para transformar los datos\n",
    "X_normalized = normalize_data_pipeline(X_label_encoded, pipeline_transforms)\n",
    "\n",
    "# Resultado de las 5 primeras filas tras la normalización\n",
    "display(X_normalized.head())\n",
    "\n",
    "# Compruebo que tras la transformación la media y standar deviation de una de las columnas es prácticamente 0 y 1 respectivamente:\n",
    "#print(X_normalized[\"carat\"].mean())\n",
    "#print(X_normalized[\"carat\"].std())\n"
   ]
  },
  {
   "cell_type": "markdown",
   "metadata": {},
   "source": [
    "# Separar datos de entrenamiento de datos de test"
   ]
  },
  {
   "cell_type": "code",
   "execution_count": 5,
   "metadata": {},
   "outputs": [],
   "source": [
    "X_train, X_test, y_train, y_test = train_test_split(X_normalized, y, test_size = 0.2)\n"
   ]
  },
  {
   "cell_type": "markdown",
   "metadata": {},
   "source": [
    "# Evaluación de varios modelos usando Cross-Validation"
   ]
  },
  {
   "cell_type": "code",
   "execution_count": 6,
   "metadata": {},
   "outputs": [],
   "source": [
    "from sklearn.svm import SVR\n",
    "from sklearn.linear_model import LinearRegression\n",
    "from sklearn.neighbors import KNeighborsRegressor\n",
    "from xgboost import XGBRegressor\n",
    "\n",
    "models = {\n",
    "    \"svm_rbf_kernel\": SVR(kernel='rbf'),\n",
    "    \"linear_regression\": LinearRegression(),\n",
    "    \"k_nearest\": KNeighborsRegressor(),\n",
    "    \"xgb_regressor\": XGBRegressor()\n",
    "}\n"
   ]
  },
  {
   "cell_type": "code",
   "execution_count": 7,
   "metadata": {},
   "outputs": [],
   "source": [
    "# Numero de ciclos de cross-validations\n",
    "n = 5\n",
    "\n",
    "# Para cada modelo hago n cross-validations\n",
    "result = {}\n",
    "for name, model in models.items():\n",
    "    scores = cross_validate(model, X_normalized, y, cv = n, scoring=['neg_mean_squared_error', 'r2'])\n",
    "    result[name] = scores\n",
    "    "
   ]
  },
  {
   "cell_type": "code",
   "execution_count": 8,
   "metadata": {},
   "outputs": [
    {
     "name": "stdout",
     "output_type": "stream",
     "text": [
      "Modelo: svm_rbf_kernel\n",
      "- Root Mean Squared Error: 2673.1724417971177\n",
      "- r2: 0.55\n",
      "\n",
      "Modelo: linear_regression\n",
      "- Root Mean Squared Error: 1605.8567919488596\n",
      "- r2: 0.84\n",
      "\n",
      "Modelo: k_nearest\n",
      "- Root Mean Squared Error: 1106.981680500646\n",
      "- r2: 0.92\n",
      "\n",
      "Modelo: xgb_regressor\n",
      "- Root Mean Squared Error: 723.7984412242815\n",
      "- r2: 0.97\n",
      "\n"
     ]
    }
   ],
   "source": [
    "# Muestro las métricas para comparar las predicciones de los distintos algoritmos que he utilizado:\n",
    "for model in result.keys():\n",
    "    print(\"Modelo: \" + model)\n",
    "    \n",
    "    r2_score = round(np.mean(result[model]['test_r2']), 2)\n",
    "    neg_mse = np.mean(result[model]['test_neg_mean_squared_error'])\n",
    "    mse = -1 * neg_mse\n",
    "    root_mse = sqrt(mse)\n",
    "\n",
    "    print(\"- Root Mean Squared Error: \" + str(root_mse))\n",
    "    print(\"- r2: \" + str(r2_score))\n",
    "    print(\"\")\n"
   ]
  },
  {
   "cell_type": "markdown",
   "metadata": {},
   "source": [
    "# Entrenamiento del modelo definitivo\n",
    "De acuerdo a los resultados anteriores el modelo que ofrece una mejor predicción es X Gradient Boosting.\n",
    "\n",
    "El siguiente paso es entrenar el modelo con todos datos y luego formatear y enviar las predicciones."
   ]
  },
  {
   "cell_type": "code",
   "execution_count": 9,
   "metadata": {},
   "outputs": [],
   "source": [
    "model = XGBRegressor()\n",
    "\n",
    "# Cargo los datos del CSV de predicciones\n",
    "diamonds_predict_df = DiamondsData(\"input/predict.csv\")\n",
    "X_predict = diamonds_predict_df.get_features()\n",
    "\n",
    "# Hago label encode de las mismas columnas que con los datos de entrenamiento\n",
    "X_predict_label_encoded = label_encode_data(X_predict, object_columns)\n",
    "\n",
    "# Normalizo los datos con la misma pipeline que los datos de entrenamiento\n",
    "X_predict_normalized = normalize_data_pipeline(X_predict_label_encoded, pipeline_transforms)\n",
    "\n",
    "# Entrenamiento del modelo con todos los datos de TRAIN.CSV:\n",
    "model.fit(X_normalized, y)\n",
    "\n",
    "# Prediccion con los datos de PREDICT.CSV\n",
    "diamond_price_prediction = model.predict(X_predict_normalized)"
   ]
  },
  {
   "cell_type": "markdown",
   "metadata": {},
   "source": [
    "# Preparación de los resultados para enviar a Kaggle"
   ]
  },
  {
   "cell_type": "code",
   "execution_count": 10,
   "metadata": {},
   "outputs": [
    {
     "name": "stdout",
     "output_type": "stream",
     "text": [
      "[ 791.1374 6061.3022 6015.245  ... 2541.3706 1140.6143 1033.5537]\n"
     ]
    }
   ],
   "source": [
    "print(diamond_price_prediction)"
   ]
  },
  {
   "cell_type": "code",
   "execution_count": 13,
   "metadata": {},
   "outputs": [
    {
     "name": "stdout",
     "output_type": "stream",
     "text": [
      "Exportados los datos a: output/'prediction_20201005_151853.csv'\n"
     ]
    }
   ],
   "source": [
    "export_to_kaggle_csv(diamonds_predict_df.get_all(), diamond_price_prediction)"
   ]
  },
  {
   "cell_type": "code",
   "execution_count": null,
   "metadata": {},
   "outputs": [],
   "source": []
  }
 ],
 "metadata": {
  "kernelspec": {
   "display_name": "Python 3",
   "language": "python",
   "name": "python3"
  },
  "language_info": {
   "codemirror_mode": {
    "name": "ipython",
    "version": 3
   },
   "file_extension": ".py",
   "mimetype": "text/x-python",
   "name": "python",
   "nbconvert_exporter": "python",
   "pygments_lexer": "ipython3",
   "version": "3.8.2"
  }
 },
 "nbformat": 4,
 "nbformat_minor": 4
}
