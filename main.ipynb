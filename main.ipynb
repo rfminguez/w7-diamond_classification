{
 "cells": [
  {
   "cell_type": "code",
   "execution_count": 1,
   "metadata": {},
   "outputs": [],
   "source": [
    "import pandas as pd\n",
    "\n",
    "diamonds_df = pd.read_csv(\"input/train.csv\")"
   ]
  },
  {
   "cell_type": "markdown",
   "metadata": {},
   "source": [
    "# Análisis preliminar"
   ]
  },
  {
   "cell_type": "code",
   "execution_count": 2,
   "metadata": {},
   "outputs": [
    {
     "name": "stdout",
     "output_type": "stream",
     "text": [
      "(40455, 11)\n"
     ]
    }
   ],
   "source": [
    "# Cuantas filas y columnas tiene el dataframe\n",
    "print(diamonds_df.shape)"
   ]
  },
  {
   "cell_type": "code",
   "execution_count": 3,
   "metadata": {},
   "outputs": [
    {
     "data": {
      "text/html": [
       "<div>\n",
       "<style scoped>\n",
       "    .dataframe tbody tr th:only-of-type {\n",
       "        vertical-align: middle;\n",
       "    }\n",
       "\n",
       "    .dataframe tbody tr th {\n",
       "        vertical-align: top;\n",
       "    }\n",
       "\n",
       "    .dataframe thead th {\n",
       "        text-align: right;\n",
       "    }\n",
       "</style>\n",
       "<table border=\"1\" class=\"dataframe\">\n",
       "  <thead>\n",
       "    <tr style=\"text-align: right;\">\n",
       "      <th></th>\n",
       "      <th>id</th>\n",
       "      <th>carat</th>\n",
       "      <th>cut</th>\n",
       "      <th>color</th>\n",
       "      <th>clarity</th>\n",
       "      <th>depth</th>\n",
       "      <th>table</th>\n",
       "      <th>x</th>\n",
       "      <th>y</th>\n",
       "      <th>z</th>\n",
       "      <th>price</th>\n",
       "    </tr>\n",
       "  </thead>\n",
       "  <tbody>\n",
       "    <tr>\n",
       "      <th>0</th>\n",
       "      <td>0</td>\n",
       "      <td>1.12</td>\n",
       "      <td>Premium</td>\n",
       "      <td>H</td>\n",
       "      <td>SI1</td>\n",
       "      <td>61.6</td>\n",
       "      <td>59.0</td>\n",
       "      <td>6.67</td>\n",
       "      <td>6.63</td>\n",
       "      <td>4.10</td>\n",
       "      <td>5363</td>\n",
       "    </tr>\n",
       "    <tr>\n",
       "      <th>1</th>\n",
       "      <td>1</td>\n",
       "      <td>1.14</td>\n",
       "      <td>Very Good</td>\n",
       "      <td>E</td>\n",
       "      <td>SI2</td>\n",
       "      <td>60.0</td>\n",
       "      <td>54.0</td>\n",
       "      <td>6.74</td>\n",
       "      <td>6.97</td>\n",
       "      <td>4.11</td>\n",
       "      <td>5593</td>\n",
       "    </tr>\n",
       "    <tr>\n",
       "      <th>2</th>\n",
       "      <td>2</td>\n",
       "      <td>0.90</td>\n",
       "      <td>Very Good</td>\n",
       "      <td>D</td>\n",
       "      <td>SI2</td>\n",
       "      <td>60.3</td>\n",
       "      <td>63.0</td>\n",
       "      <td>6.12</td>\n",
       "      <td>6.22</td>\n",
       "      <td>3.72</td>\n",
       "      <td>3534</td>\n",
       "    </tr>\n",
       "    <tr>\n",
       "      <th>3</th>\n",
       "      <td>3</td>\n",
       "      <td>0.71</td>\n",
       "      <td>Ideal</td>\n",
       "      <td>E</td>\n",
       "      <td>VS1</td>\n",
       "      <td>61.9</td>\n",
       "      <td>54.0</td>\n",
       "      <td>5.74</td>\n",
       "      <td>5.76</td>\n",
       "      <td>3.56</td>\n",
       "      <td>3212</td>\n",
       "    </tr>\n",
       "    <tr>\n",
       "      <th>4</th>\n",
       "      <td>4</td>\n",
       "      <td>0.34</td>\n",
       "      <td>Very Good</td>\n",
       "      <td>F</td>\n",
       "      <td>SI2</td>\n",
       "      <td>60.0</td>\n",
       "      <td>62.0</td>\n",
       "      <td>4.51</td>\n",
       "      <td>4.55</td>\n",
       "      <td>2.72</td>\n",
       "      <td>447</td>\n",
       "    </tr>\n",
       "  </tbody>\n",
       "</table>\n",
       "</div>"
      ],
      "text/plain": [
       "   id  carat        cut color clarity  depth  table     x     y     z  price\n",
       "0   0   1.12    Premium     H     SI1   61.6   59.0  6.67  6.63  4.10   5363\n",
       "1   1   1.14  Very Good     E     SI2   60.0   54.0  6.74  6.97  4.11   5593\n",
       "2   2   0.90  Very Good     D     SI2   60.3   63.0  6.12  6.22  3.72   3534\n",
       "3   3   0.71      Ideal     E     VS1   61.9   54.0  5.74  5.76  3.56   3212\n",
       "4   4   0.34  Very Good     F     SI2   60.0   62.0  4.51  4.55  2.72    447"
      ]
     },
     "metadata": {},
     "output_type": "display_data"
    }
   ],
   "source": [
    "# Mostramos las primeras entradas\n",
    "display(diamonds_df.head())"
   ]
  },
  {
   "cell_type": "code",
   "execution_count": 4,
   "metadata": {},
   "outputs": [
    {
     "data": {
      "text/plain": [
       "id         0\n",
       "carat      0\n",
       "cut        0\n",
       "color      0\n",
       "clarity    0\n",
       "depth      0\n",
       "table      0\n",
       "x          0\n",
       "y          0\n",
       "z          0\n",
       "price      0\n",
       "dtype: int64"
      ]
     },
     "execution_count": 4,
     "metadata": {},
     "output_type": "execute_result"
    }
   ],
   "source": [
    "# ¿Hay nulos? Parece que no\n",
    "diamonds_df.isnull().sum(axis = 0)"
   ]
  },
  {
   "cell_type": "code",
   "execution_count": 5,
   "metadata": {},
   "outputs": [
    {
     "data": {
      "text/plain": [
       "id           int64\n",
       "carat      float64\n",
       "cut         object\n",
       "color       object\n",
       "clarity     object\n",
       "depth      float64\n",
       "table      float64\n",
       "x          float64\n",
       "y          float64\n",
       "z          float64\n",
       "price        int64\n",
       "dtype: object"
      ]
     },
     "execution_count": 5,
     "metadata": {},
     "output_type": "execute_result"
    }
   ],
   "source": [
    "# Que tipo de datos tiene cada columna\n",
    "diamonds_df.dtypes"
   ]
  },
  {
   "cell_type": "code",
   "execution_count": 6,
   "metadata": {},
   "outputs": [
    {
     "name": "stdout",
     "output_type": "stream",
     "text": [
      "Columna 'cut':\n",
      "Ideal        16250\n",
      "Premium      10342\n",
      "Very Good     9026\n",
      "Good          3639\n",
      "Fair          1198\n",
      "Name: cut, dtype: int64\n",
      "\n",
      "Columna 'color':\n",
      "G    8565\n",
      "E    7344\n",
      "F    7162\n",
      "H    6147\n",
      "D    5063\n",
      "I    4052\n",
      "J    2122\n",
      "Name: color, dtype: int64\n",
      "\n",
      "Columna 'clarity':\n",
      "SI1     9806\n",
      "VS2     9204\n",
      "SI2     6865\n",
      "VS1     6099\n",
      "VVS2    3778\n",
      "VVS1    2776\n",
      "IF      1365\n",
      "I1       562\n",
      "Name: clarity, dtype: int64\n"
     ]
    }
   ],
   "source": [
    "# Las columnas \"cut\", \"color\" y \"clarity\" tienen datos no numéricos. ¿Cuantos valores distintos hay en cada uno?\n",
    "print(\"Columna 'cut':\")\n",
    "print(diamonds_df[\"cut\"].value_counts())\n",
    "\n",
    "print(\"\\nColumna 'color':\")\n",
    "print(diamonds_df[\"color\"].value_counts())\n",
    "\n",
    "print(\"\\nColumna 'clarity':\")\n",
    "print(diamonds_df[\"clarity\"].value_counts())\n"
   ]
  },
  {
   "cell_type": "markdown",
   "metadata": {},
   "source": [
    "# Definir Features y Groundtruth"
   ]
  },
  {
   "cell_type": "code",
   "execution_count": 7,
   "metadata": {},
   "outputs": [
    {
     "name": "stdout",
     "output_type": "stream",
     "text": [
      "40455\n",
      "(40455, 9)\n",
      "40455\n"
     ]
    }
   ],
   "source": [
    "# Features:\n",
    "print(len(diamonds_df[\"id\"]))\n",
    "\n",
    "#   Descarto el campo \"id\" que es la identificación única para cada diamante\n",
    "columns = [column for column in diamonds_df.columns if column != \"price\" and column != \"id\"]\n",
    "X = diamonds_df[columns]\n",
    "print(X.shape)\n",
    "\n",
    "# Groundtruth\n",
    "y = diamonds_df[\"price\"]\n",
    "print(len(y))"
   ]
  },
  {
   "cell_type": "code",
   "execution_count": 8,
   "metadata": {},
   "outputs": [
    {
     "data": {
      "text/html": [
       "<div>\n",
       "<style scoped>\n",
       "    .dataframe tbody tr th:only-of-type {\n",
       "        vertical-align: middle;\n",
       "    }\n",
       "\n",
       "    .dataframe tbody tr th {\n",
       "        vertical-align: top;\n",
       "    }\n",
       "\n",
       "    .dataframe thead th {\n",
       "        text-align: right;\n",
       "    }\n",
       "</style>\n",
       "<table border=\"1\" class=\"dataframe\">\n",
       "  <thead>\n",
       "    <tr style=\"text-align: right;\">\n",
       "      <th></th>\n",
       "      <th>carat</th>\n",
       "      <th>cut</th>\n",
       "      <th>color</th>\n",
       "      <th>clarity</th>\n",
       "      <th>depth</th>\n",
       "      <th>table</th>\n",
       "      <th>x</th>\n",
       "      <th>y</th>\n",
       "      <th>z</th>\n",
       "    </tr>\n",
       "  </thead>\n",
       "  <tbody>\n",
       "    <tr>\n",
       "      <th>0</th>\n",
       "      <td>1.12</td>\n",
       "      <td>3</td>\n",
       "      <td>4</td>\n",
       "      <td>2</td>\n",
       "      <td>61.6</td>\n",
       "      <td>59.0</td>\n",
       "      <td>6.67</td>\n",
       "      <td>6.63</td>\n",
       "      <td>4.10</td>\n",
       "    </tr>\n",
       "    <tr>\n",
       "      <th>1</th>\n",
       "      <td>1.14</td>\n",
       "      <td>4</td>\n",
       "      <td>1</td>\n",
       "      <td>3</td>\n",
       "      <td>60.0</td>\n",
       "      <td>54.0</td>\n",
       "      <td>6.74</td>\n",
       "      <td>6.97</td>\n",
       "      <td>4.11</td>\n",
       "    </tr>\n",
       "    <tr>\n",
       "      <th>2</th>\n",
       "      <td>0.90</td>\n",
       "      <td>4</td>\n",
       "      <td>0</td>\n",
       "      <td>3</td>\n",
       "      <td>60.3</td>\n",
       "      <td>63.0</td>\n",
       "      <td>6.12</td>\n",
       "      <td>6.22</td>\n",
       "      <td>3.72</td>\n",
       "    </tr>\n",
       "    <tr>\n",
       "      <th>3</th>\n",
       "      <td>0.71</td>\n",
       "      <td>2</td>\n",
       "      <td>1</td>\n",
       "      <td>4</td>\n",
       "      <td>61.9</td>\n",
       "      <td>54.0</td>\n",
       "      <td>5.74</td>\n",
       "      <td>5.76</td>\n",
       "      <td>3.56</td>\n",
       "    </tr>\n",
       "    <tr>\n",
       "      <th>4</th>\n",
       "      <td>0.34</td>\n",
       "      <td>4</td>\n",
       "      <td>2</td>\n",
       "      <td>3</td>\n",
       "      <td>60.0</td>\n",
       "      <td>62.0</td>\n",
       "      <td>4.51</td>\n",
       "      <td>4.55</td>\n",
       "      <td>2.72</td>\n",
       "    </tr>\n",
       "  </tbody>\n",
       "</table>\n",
       "</div>"
      ],
      "text/plain": [
       "   carat  cut  color  clarity  depth  table     x     y     z\n",
       "0   1.12    3      4        2   61.6   59.0  6.67  6.63  4.10\n",
       "1   1.14    4      1        3   60.0   54.0  6.74  6.97  4.11\n",
       "2   0.90    4      0        3   60.3   63.0  6.12  6.22  3.72\n",
       "3   0.71    2      1        4   61.9   54.0  5.74  5.76  3.56\n",
       "4   0.34    4      2        3   60.0   62.0  4.51  4.55  2.72"
      ]
     },
     "execution_count": 8,
     "metadata": {},
     "output_type": "execute_result"
    }
   ],
   "source": [
    "# Voy a transformar las columnas \"cut\", \"color\" y \"clarity\" en numéricas, usando LabelEncoder.\n",
    "from sklearn.preprocessing import LabelEncoder\n",
    "\n",
    "# Hago una copia del dataset original\n",
    "X_label_encoded = X.copy()\n",
    "\n",
    "label_encoder = LabelEncoder()\n",
    "\n",
    "object_cols = [\"cut\", \"color\", \"clarity\"]\n",
    "\n",
    "for col in object_cols:\n",
    "    X_label_encoded[col] = label_encoder.fit_transform(X[col])\n",
    "\n",
    "# Las columnas \"cut\", \"color\" y \"clarity\" ya son numéricas:\n",
    "X_label_encoded.head()"
   ]
  },
  {
   "cell_type": "code",
   "execution_count": 9,
   "metadata": {},
   "outputs": [
    {
     "data": {
      "text/html": [
       "<div>\n",
       "<style scoped>\n",
       "    .dataframe tbody tr th:only-of-type {\n",
       "        vertical-align: middle;\n",
       "    }\n",
       "\n",
       "    .dataframe tbody tr th {\n",
       "        vertical-align: top;\n",
       "    }\n",
       "\n",
       "    .dataframe thead th {\n",
       "        text-align: right;\n",
       "    }\n",
       "</style>\n",
       "<table border=\"1\" class=\"dataframe\">\n",
       "  <thead>\n",
       "    <tr style=\"text-align: right;\">\n",
       "      <th></th>\n",
       "      <th>carat</th>\n",
       "      <th>cut</th>\n",
       "      <th>color</th>\n",
       "      <th>clarity</th>\n",
       "      <th>depth</th>\n",
       "      <th>table</th>\n",
       "      <th>x</th>\n",
       "      <th>y</th>\n",
       "      <th>z</th>\n",
       "    </tr>\n",
       "  </thead>\n",
       "  <tbody>\n",
       "    <tr>\n",
       "      <th>0</th>\n",
       "      <td>0.677821</td>\n",
       "      <td>0.436318</td>\n",
       "      <td>0.827101</td>\n",
       "      <td>-1.062198</td>\n",
       "      <td>-0.101191</td>\n",
       "      <td>0.695508</td>\n",
       "      <td>0.835699</td>\n",
       "      <td>0.776126</td>\n",
       "      <td>0.789949</td>\n",
       "    </tr>\n",
       "    <tr>\n",
       "      <th>1</th>\n",
       "      <td>0.719937</td>\n",
       "      <td>1.411739</td>\n",
       "      <td>-0.937780</td>\n",
       "      <td>-0.482915</td>\n",
       "      <td>-1.216763</td>\n",
       "      <td>-1.550809</td>\n",
       "      <td>0.898013</td>\n",
       "      <td>1.071048</td>\n",
       "      <td>0.804023</td>\n",
       "    </tr>\n",
       "    <tr>\n",
       "      <th>2</th>\n",
       "      <td>0.214540</td>\n",
       "      <td>1.411739</td>\n",
       "      <td>-1.526073</td>\n",
       "      <td>-0.482915</td>\n",
       "      <td>-1.007593</td>\n",
       "      <td>2.492562</td>\n",
       "      <td>0.346092</td>\n",
       "      <td>0.420484</td>\n",
       "      <td>0.255168</td>\n",
       "    </tr>\n",
       "    <tr>\n",
       "      <th>3</th>\n",
       "      <td>-0.185566</td>\n",
       "      <td>-0.539104</td>\n",
       "      <td>-0.937780</td>\n",
       "      <td>0.096368</td>\n",
       "      <td>0.107979</td>\n",
       "      <td>-1.550809</td>\n",
       "      <td>0.007818</td>\n",
       "      <td>0.021471</td>\n",
       "      <td>0.029996</td>\n",
       "    </tr>\n",
       "    <tr>\n",
       "      <th>4</th>\n",
       "      <td>-0.964720</td>\n",
       "      <td>1.411739</td>\n",
       "      <td>-0.349486</td>\n",
       "      <td>-0.482915</td>\n",
       "      <td>-1.216763</td>\n",
       "      <td>2.043298</td>\n",
       "      <td>-1.087121</td>\n",
       "      <td>-1.028107</td>\n",
       "      <td>-1.152153</td>\n",
       "    </tr>\n",
       "  </tbody>\n",
       "</table>\n",
       "</div>"
      ],
      "text/plain": [
       "      carat       cut     color   clarity     depth     table         x  \\\n",
       "0  0.677821  0.436318  0.827101 -1.062198 -0.101191  0.695508  0.835699   \n",
       "1  0.719937  1.411739 -0.937780 -0.482915 -1.216763 -1.550809  0.898013   \n",
       "2  0.214540  1.411739 -1.526073 -0.482915 -1.007593  2.492562  0.346092   \n",
       "3 -0.185566 -0.539104 -0.937780  0.096368  0.107979 -1.550809  0.007818   \n",
       "4 -0.964720  1.411739 -0.349486 -0.482915 -1.216763  2.043298 -1.087121   \n",
       "\n",
       "          y         z  \n",
       "0  0.776126  0.789949  \n",
       "1  1.071048  0.804023  \n",
       "2  0.420484  0.255168  \n",
       "3  0.021471  0.029996  \n",
       "4 -1.028107 -1.152153  "
      ]
     },
     "metadata": {},
     "output_type": "display_data"
    },
    {
     "name": "stdout",
     "output_type": "stream",
     "text": [
      "-8.641379952885163e-17\n",
      "1.0000123596408295\n"
     ]
    }
   ],
   "source": [
    "# En el siguiente paso voy a normalizar los valores escalándolos\n",
    "# para que la media de todas las columnas sea 0 y la desviación \n",
    "# típica sea 1.\n",
    "#\n",
    "# Voy a hacer esto usando una pipeline.\n",
    "\n",
    "from sklearn.preprocessing import StandardScaler, Normalizer\n",
    "from sklearn.pipeline import make_pipeline\n",
    "\n",
    "pipeline = [\n",
    "    StandardScaler(),\n",
    "    #Normalizer()\n",
    "] \n",
    "\n",
    "transformer = make_pipeline(*pipeline)\n",
    "\n",
    "X_normalized = transformer.fit_transform(X_label_encoded)\n",
    "\n",
    "X_normalized = pd.DataFrame(X_normalized, columns = X.columns)\n",
    "display(X_normalized.head())\n",
    "\n",
    "# Tras la transformación, vemos que  la media y standar deviation de \n",
    "# cada una de las columnas es prácticamente 0 y 1 respectivamente:\n",
    "print(X_normalized[\"carat\"].mean())\n",
    "print(X_normalized[\"carat\"].std())\n"
   ]
  },
  {
   "cell_type": "code",
   "execution_count": 10,
   "metadata": {},
   "outputs": [],
   "source": [
    "# Dividir los datos normalizados en set de training de set de test\n",
    "from sklearn.model_selection import train_test_split\n",
    "\n",
    "X_train, X_test, y_train, y_test = train_test_split(X_normalized, y, test_size = 0.2)"
   ]
  },
  {
   "cell_type": "code",
   "execution_count": 13,
   "metadata": {},
   "outputs": [],
   "source": [
    "# ENTRENAR\n",
    "# Ten en cuenta que es un problema de Regresión (no de clasificación).\n",
    "# Voy a usar estos modelos: \n",
    "# - LinearRegression\n",
    "#        from sklearn.linear_model import LinearRegression\n",
    "#\n",
    "# Creo el modelo\n",
    "#        model = LinearRegression()\n",
    "#\n",
    "# Entreno el modelo\n",
    "#        model.fit(X_train, y_train)\n",
    "\n",
    "# - Suport Vector Machines\n",
    "from sklearn.svm import SVR\n",
    "\n",
    "# Varios modelos de SVR con diferentes kernels y metaparámetros\n",
    "svr_rbf = SVR(kernel='rbf', C=100, gamma=0.1, epsilon=.1)\n",
    "svr_lin = SVR(kernel='linear', C=100, gamma='auto')\n",
    "svr_poly = SVR(kernel='poly', C=100, gamma='auto', degree=3, epsilon=.1, coef0=1)\n",
    "\n"
   ]
  },
  {
   "cell_type": "code",
   "execution_count": null,
   "metadata": {},
   "outputs": [],
   "source": [
    "# Entrenar el modelo\n",
    "svr_rbf.fit(X_train, y_train)\n"
   ]
  },
  {
   "cell_type": "code",
   "execution_count": null,
   "metadata": {},
   "outputs": [],
   "source": [
    "# Hacer una predicción\n",
    "#y_pred = model.predict(X_test)\n",
    "y_pred = svr_rbf.predict(X_test)\n",
    "\n",
    "print(y_pred)"
   ]
  },
  {
   "cell_type": "code",
   "execution_count": null,
   "metadata": {},
   "outputs": [],
   "source": [
    "# Evaluar resultados y exportarlos\n",
    "from sklearn.metrics import mean_absolute_error\n",
    "\n",
    "# MAE (Mean Absolute Error):\n",
    "mae_result = mean_absolute_error(y_test, y_pred)\n",
    "\n",
    "# El resultado es un float no negativo. El mejor resultado es 0.0.\n",
    "print(mae_result)\n"
   ]
  },
  {
   "cell_type": "code",
   "execution_count": null,
   "metadata": {},
   "outputs": [],
   "source": [
    "# MSE (Mean Squared Error)\n",
    "from sklearn.metrics import mean_squared_error\n",
    "\n",
    "mae_result = mean_squared_error(y_test, y_pred)\n",
    "\n",
    "# El resultado es un float no negativo. El mejor resultado es 0.0.\n",
    "print(mae_result)\n"
   ]
  },
  {
   "cell_type": "code",
   "execution_count": null,
   "metadata": {},
   "outputs": [],
   "source": [
    "# RMSE (Root Mean Squared Error)\n",
    "from math import sqrt\n",
    "\n",
    "print(sqrt(rmse_score))"
   ]
  },
  {
   "cell_type": "code",
   "execution_count": null,
   "metadata": {},
   "outputs": [],
   "source": [
    "# R² \n",
    "from sklearn.metrics import r2_score\n",
    "\n",
    "r2_result = r2_score(y_test, y_pred)\n",
    "\n",
    "# El resultado es un valor entre 0 y 1 siendo 1 una predicción perfecta.\n",
    "print(r2_result)\n"
   ]
  },
  {
   "cell_type": "code",
   "execution_count": 11,
   "metadata": {},
   "outputs": [],
   "source": [
    "# Estas funciones deberían ir a un módulo aparte\n",
    "\n",
    "def get_obj_columns(df):\n",
    "    '''\n",
    "    receives: a dataframe\n",
    "    returns: a list with the columns which dtype is object\n",
    "    '''\n",
    "    return df.select_dtypes('object').columns.to_list()\n",
    "\n",
    "def label_encode(df, obj_columns):\n",
    "    '''\n",
    "    receives: a dataframe, columns to transform\n",
    "    returns: a dataframe with the columns transformed from string using Label Encoder.\n",
    "    '''\n",
    "    result = df.copy()\n",
    "    for col in obj_columns:\n",
    "        result[col] = label_encoder.fit_transform(df[col])\n",
    "    return result"
   ]
  },
  {
   "cell_type": "code",
   "execution_count": 17,
   "metadata": {},
   "outputs": [
    {
     "data": {
      "text/plain": [
       "array([ 675.16187343, 7698.53852529, 5585.28426773, ..., 2265.82915506,\n",
       "       1214.81753439, 1149.21793578])"
      ]
     },
     "metadata": {},
     "output_type": "display_data"
    }
   ],
   "source": [
    "# Exportar datos para la competición de Kaggle\n",
    "\n",
    "# Una vez tenemos un modelo que nos convenza:\n",
    "# usamos los datos de predict.csv para sacar una predicción\n",
    "\n",
    "# 1 Transformo los datos de PREDICT.CSV con el pipeline y label encode:\n",
    "diamonds_pred_df = pd.read_csv(\"input/predict.csv\")\n",
    "\n",
    "X_pred = diamonds_pred_df[columns]\n",
    "\n",
    "# 1.1 Hago label encode en todas las columnas que son objetos\n",
    "X_pred_label_encoded = label_encode(X_pred, get_obj_columns(X_pred))\n",
    "\n",
    "# 1.2 Utilizo el pipeline que utilicé antes\n",
    "X_pred_normalized = transformer.fit_transform(X_pred_label_encoded)\n",
    "X_pred_normalized = pd.DataFrame(X_pred_normalized, columns = X_pred.columns)\n",
    "\n",
    "\n",
    "# 2 entreno el modelo con todos los datos de TRAIN.CSV pasados por label encode y el pipeline de normalización:\n",
    "svr_rbf.fit(X_normalized, y)\n",
    "\n",
    "\n",
    "# 3 Hago la predicción\n",
    "diamond_price_prediction = svr_rbf.predict(X_pred_normalized)\n",
    "\n",
    "display(diamond_price_prediction)"
   ]
  },
  {
   "cell_type": "code",
   "execution_count": 21,
   "metadata": {},
   "outputs": [
    {
     "data": {
      "text/plain": [
       "array([ 675.16187343, 7698.53852529, 5585.28426773, ..., 2265.82915506,\n",
       "       1214.81753439, 1149.21793578])"
      ]
     },
     "metadata": {},
     "output_type": "display_data"
    },
    {
     "name": "stdout",
     "output_type": "stream",
     "text": [
      "<class 'numpy.ndarray'>\n"
     ]
    },
    {
     "data": {
      "text/plain": [
       "<bound method NDFrame.head of           id         price\n",
       "0          0    675.161873\n",
       "1          1   7698.538525\n",
       "2          2   5585.284268\n",
       "3          3   1034.973112\n",
       "4          4   2692.958897\n",
       "...      ...           ...\n",
       "13480  13480  12816.586127\n",
       "13481  13481    885.938800\n",
       "13482  13482   2265.829155\n",
       "13483  13483   1214.817534\n",
       "13484  13484   1149.217936\n",
       "\n",
       "[13485 rows x 2 columns]>"
      ]
     },
     "metadata": {},
     "output_type": "display_data"
    }
   ],
   "source": [
    "# Preparar el fichero para subirlo a la competición de Kaggle\n",
    "\n",
    "import time\n",
    "\n",
    "timestr = time.strftime(\"%Y%m%d_%H%M%S\")\n",
    "output_file_name = \"prediction_\" + timestr + \".csv\"\n",
    "\n",
    "display(diamond_price_prediction)\n",
    "\n",
    "print(type(diamond_price_prediction))\n",
    "\n",
    "my_submission = pd.DataFrame({'id': diamonds_pred_df[\"id\"], 'price': diamond_price_prediction})\n",
    "display(my_submission.head)\n",
    "my_submission.to_csv('output/' + output_file_name, index=False)"
   ]
  },
  {
   "cell_type": "code",
   "execution_count": null,
   "metadata": {},
   "outputs": [],
   "source": []
  }
 ],
 "metadata": {
  "kernelspec": {
   "display_name": "Python 3",
   "language": "python",
   "name": "python3"
  },
  "language_info": {
   "codemirror_mode": {
    "name": "ipython",
    "version": 3
   },
   "file_extension": ".py",
   "mimetype": "text/x-python",
   "name": "python",
   "nbconvert_exporter": "python",
   "pygments_lexer": "ipython3",
   "version": "3.8.2"
  }
 },
 "nbformat": 4,
 "nbformat_minor": 4
}
